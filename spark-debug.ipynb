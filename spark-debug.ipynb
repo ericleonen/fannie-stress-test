{
 "cells": [
  {
   "cell_type": "code",
   "execution_count": 1,
   "id": "4725210a",
   "metadata": {},
   "outputs": [
    {
     "name": "stdout",
     "output_type": "stream",
     "text": [
      "Using Python executable: c:\\Users\\zachl\\Eric's Projects\\fannie-stress-test\\.venv\\Scripts\\python.exe\n",
      "+---+------------+\n",
      "|val|val_plus_one|\n",
      "+---+------------+\n",
      "|  1|           2|\n",
      "|  2|           3|\n",
      "|  3|           4|\n",
      "+---+------------+\n",
      "\n"
     ]
    }
   ],
   "source": [
    "from pyspark.sql import SparkSession\n",
    "from pyspark.sql.functions import udf\n",
    "from pyspark.sql.types import IntegerType\n",
    "import os\n",
    "import sys\n",
    "\n",
    "print(\"Using Python executable:\", sys.executable)\n",
    "\n",
    "os.environ[\"PYSPARK_PYTHON\"] = sys.executable\n",
    "os.environ[\"PYSPARK_DRIVER_PYTHON\"] = sys.executable\n",
    "\n",
    "spark = SparkSession.builder \\\n",
    "    .appName(\"TestUDF\") \\\n",
    "    .getOrCreate()\n",
    "\n",
    "df = spark.createDataFrame([(1,), (2,), (3,)], [\"val\"])\n",
    "\n",
    "def add_one(x):\n",
    "    return x + 1\n",
    "\n",
    "add_one_udf = udf(add_one, IntegerType())\n",
    "\n",
    "df = df.withColumn(\"val_plus_one\", add_one_udf(df[\"val\"]))\n",
    "\n",
    "df.show()\n"
   ]
  }
 ],
 "metadata": {
  "kernelspec": {
   "display_name": ".venv",
   "language": "python",
   "name": "python3"
  },
  "language_info": {
   "codemirror_mode": {
    "name": "ipython",
    "version": 3
   },
   "file_extension": ".py",
   "mimetype": "text/x-python",
   "name": "python",
   "nbconvert_exporter": "python",
   "pygments_lexer": "ipython3",
   "version": "3.10.0"
  }
 },
 "nbformat": 4,
 "nbformat_minor": 5
}
