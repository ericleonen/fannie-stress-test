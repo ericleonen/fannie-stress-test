{
 "cells": [
  {
   "cell_type": "code",
   "execution_count": 1,
   "id": "dbe8e158",
   "metadata": {},
   "outputs": [
    {
     "data": {
      "text/html": [
       "<div>\n",
       "<style scoped>\n",
       "    .dataframe tbody tr th:only-of-type {\n",
       "        vertical-align: middle;\n",
       "    }\n",
       "\n",
       "    .dataframe tbody tr th {\n",
       "        vertical-align: top;\n",
       "    }\n",
       "\n",
       "    .dataframe thead th {\n",
       "        text-align: right;\n",
       "    }\n",
       "</style>\n",
       "<table border=\"1\" class=\"dataframe\">\n",
       "  <thead>\n",
       "    <tr style=\"text-align: right;\">\n",
       "      <th></th>\n",
       "      <th>orig_upb</th>\n",
       "      <th>defaulted</th>\n",
       "      <th>net</th>\n",
       "    </tr>\n",
       "  </thead>\n",
       "  <tbody>\n",
       "    <tr>\n",
       "      <th>0</th>\n",
       "      <td>308000</td>\n",
       "      <td>False</td>\n",
       "      <td>9323.340000</td>\n",
       "    </tr>\n",
       "    <tr>\n",
       "      <th>1</th>\n",
       "      <td>207000</td>\n",
       "      <td>False</td>\n",
       "      <td>5563.360000</td>\n",
       "    </tr>\n",
       "    <tr>\n",
       "      <th>2</th>\n",
       "      <td>215000</td>\n",
       "      <td>False</td>\n",
       "      <td>15669.950000</td>\n",
       "    </tr>\n",
       "    <tr>\n",
       "      <th>3</th>\n",
       "      <td>319000</td>\n",
       "      <td>False</td>\n",
       "      <td>10563.770000</td>\n",
       "    </tr>\n",
       "    <tr>\n",
       "      <th>4</th>\n",
       "      <td>362000</td>\n",
       "      <td>False</td>\n",
       "      <td>26961.800000</td>\n",
       "    </tr>\n",
       "    <tr>\n",
       "      <th>...</th>\n",
       "      <td>...</td>\n",
       "      <td>...</td>\n",
       "      <td>...</td>\n",
       "    </tr>\n",
       "    <tr>\n",
       "      <th>2799005</th>\n",
       "      <td>439000</td>\n",
       "      <td>False</td>\n",
       "      <td>4479.279785</td>\n",
       "    </tr>\n",
       "    <tr>\n",
       "      <th>2799006</th>\n",
       "      <td>387000</td>\n",
       "      <td>False</td>\n",
       "      <td>8534.900391</td>\n",
       "    </tr>\n",
       "    <tr>\n",
       "      <th>2799007</th>\n",
       "      <td>433000</td>\n",
       "      <td>False</td>\n",
       "      <td>4418.060059</td>\n",
       "    </tr>\n",
       "    <tr>\n",
       "      <th>2799008</th>\n",
       "      <td>332000</td>\n",
       "      <td>False</td>\n",
       "      <td>3174.469971</td>\n",
       "    </tr>\n",
       "    <tr>\n",
       "      <th>2799009</th>\n",
       "      <td>284000</td>\n",
       "      <td>False</td>\n",
       "      <td>1538.329956</td>\n",
       "    </tr>\n",
       "  </tbody>\n",
       "</table>\n",
       "<p>2799010 rows × 3 columns</p>\n",
       "</div>"
      ],
      "text/plain": [
       "         orig_upb  defaulted           net\n",
       "0          308000      False   9323.340000\n",
       "1          207000      False   5563.360000\n",
       "2          215000      False  15669.950000\n",
       "3          319000      False  10563.770000\n",
       "4          362000      False  26961.800000\n",
       "...           ...        ...           ...\n",
       "2799005    439000      False   4479.279785\n",
       "2799006    387000      False   8534.900391\n",
       "2799007    433000      False   4418.060059\n",
       "2799008    332000      False   3174.469971\n",
       "2799009    284000      False   1538.329956\n",
       "\n",
       "[2799010 rows x 3 columns]"
      ]
     },
     "execution_count": 1,
     "metadata": {},
     "output_type": "execute_result"
    }
   ],
   "source": [
    "import pandas as pd\n",
    "\n",
    "data = pd.concat([\n",
    "    pd.read_parquet(f\"data/{year}.parquet\")\n",
    "    for year in range(2020, 2024 + 1)\n",
    "]).reset_index().drop(columns=[\"index\"])\n",
    "\n",
    "data"
   ]
  },
  {
   "cell_type": "code",
   "execution_count": 2,
   "id": "5392f63c",
   "metadata": {},
   "outputs": [
    {
     "data": {
      "text/plain": [
       "[]"
      ]
     },
     "execution_count": 2,
     "metadata": {},
     "output_type": "execute_result"
    },
    {
     "data": {
      "image/png": "[encoded data removed]",
      "text/plain": [
       "<Figure size 640x480 with 1 Axes>"
      ]
     },
     "metadata": {},
     "output_type": "display_data"
    }
   ],
   "source": [
    "import seaborn as sns\n",
    "import matplotlib.pyplot as plt\n",
    "\n",
    "sns.histplot(\n",
    "    data=data[data[\"defaulted\"]],\n",
    "    x=\"net\",\n",
    "    bins=128\n",
    ")\n",
    "\n",
    "plt.plot()"
   ]
  },
  {
   "cell_type": "code",
   "execution_count": 3,
   "id": "c401129e",
   "metadata": {},
   "outputs": [],
   "source": [
    "import numpy as np\n",
    "\n",
    "def simulate_portfolio(\n",
    "    data: pd.DataFrame,\n",
    "    default_rate: float = None,\n",
    "    N=10000,\n",
    "    n=100\n",
    ") -> np.ndarray:\n",
    "    defaulted = data[\"defaulted\"]\n",
    "\n",
    "    if default_rate is None:\n",
    "        default_rate = defaulted.mean()\n",
    "\n",
    "    n_paid = int(n * (1 - default_rate))\n",
    "    n_defaulted = int(n * default_rate)\n",
    "\n",
    "    investment_paid = data[\"orig_upb\"][~defaulted].values\n",
    "    investment_defaulted = data[\"orig_upb\"][defaulted].values\n",
    "\n",
    "    net_paid = data[\"net\"][~defaulted].values\n",
    "    net_defaulted = data[\"net\"][defaulted].values\n",
    "\n",
    "    index_paid = np.random.randint(0, len(net_paid), size=(N, n_paid))\n",
    "    index_defaulted = np.random.randint(0, len(net_defaulted), size=(N, n_defaulted))\n",
    "\n",
    "    investment = np.take(investment_paid, index_paid).sum(axis=1) + \\\n",
    "        np.take(investment_defaulted, index_defaulted).sum(axis=1)\n",
    "    net = np.take(net_paid, index_paid).sum(axis=1) + \\\n",
    "        np.take(net_defaulted, index_defaulted).sum(axis=1)\n",
    "\n",
    "    return net / investment, net"
   ]
  },
  {
   "cell_type": "code",
   "execution_count": 6,
   "id": "fea38651",
   "metadata": {},
   "outputs": [
    {
     "data": {
      "image/png": "[encoded data removed]",
      "text/plain": [
       "<Figure size 640x480 with 1 Axes>"
      ]
     },
     "metadata": {},
     "output_type": "display_data"
    }
   ],
   "source": [
    "# 2 \"levers\": adjust house prices or adjust default rate\n",
    "\n",
    "returns, net = simulate_portfolio(\n",
    "    data,\n",
    "    N=200_000,\n",
    "    n=1_000,\n",
    "    default_rate=0.1\n",
    ")\n",
    "\n",
    "plt.hist(\n",
    "    net,\n",
    "    bins=128\n",
    ")\n",
    "plt.show()"
   ]
  }
 ],
 "metadata": {
  "kernelspec": {
   "display_name": ".venv",
   "language": "python",
   "name": "python3"
  },
  "language_info": {
   "codemirror_mode": {
    "name": "ipython",
    "version": 3
   },
   "file_extension": ".py",
   "mimetype": "text/x-python",
   "name": "python",
   "nbconvert_exporter": "python",
   "pygments_lexer": "ipython3",
   "version": "3.10.0"
  }
 },
 "nbformat": 4,
 "nbformat_minor": 5
}
